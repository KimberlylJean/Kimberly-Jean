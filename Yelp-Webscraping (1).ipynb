{
 "cells": [
  {
   "cell_type": "markdown",
   "metadata": {
    "id": "qwNdLgt_JCu4"
   },
   "source": [
    "Part One - Data Preparation Module:\n",
    "Using the website from Yelp: https://www.yelp.com/biz/eleven-madison-park-new-york?osq=Eleven+Madison+Park\n",
    "\n",
    "For this project, we used the website Yelp to scrape data for a restaurant called Eleven Madison Park. The information we retrieved is the following: name, address, phone number, website, operating hours, a summary of the restaurant, the most popular dishes and their pictures, the number of reviews, and the top 10 reviews. We stored all the information in a dictionary data type, which we later converted to a JSON file."
   ]
  },
  {
   "cell_type": "markdown",
   "metadata": {
    "id": "aG1izx8xJiun"
   },
   "source": [
    "1. Read URL by using beautifulsoup and requests"
   ]
  },
  {
   "cell_type": "code",
   "execution_count": 1,
   "metadata": {
    "id": "oKxuYpWafXzW"
   },
   "outputs": [],
   "source": [
    "from bs4 import BeautifulSoup\n",
    "from urllib.request import urlopen\n",
    "import requests "
   ]
  },
  {
   "cell_type": "code",
   "execution_count": 2,
   "metadata": {
    "colab": {
     "base_uri": "https://localhost:8080/"
    },
    "id": "nhv5ACN0fdiw",
    "outputId": "24023104-1e60-46b5-f512-99200b977ddf"
   },
   "outputs": [],
   "source": [
    "yelp_link = requests.get('https://www.yelp.com/biz/eleven-madison-park-new-york')\n",
    "yelp_link_text = yelp_link.text\n",
    "\n",
    "soup = BeautifulSoup(yelp_link_text,'html.parser')\n",
    "# print(soup.prettify())"
   ]
  },
  {
   "cell_type": "markdown",
   "metadata": {
    "id": "MlwMyIFIKKjE"
   },
   "source": [
    "2. Creating a empty dictionnary to store the data"
   ]
  },
  {
   "cell_type": "code",
   "execution_count": 34,
   "metadata": {
    "id": "0efEYtxYKO2N"
   },
   "outputs": [],
   "source": [
    "restaurant_info = {}"
   ]
  },
  {
   "cell_type": "markdown",
   "metadata": {
    "id": "ZpZugLmdKS4B"
   },
   "source": [
    "3. Finding the restaurant's name"
   ]
  },
  {
   "cell_type": "code",
   "execution_count": 35,
   "metadata": {
    "colab": {
     "base_uri": "https://localhost:8080/"
    },
    "id": "90Q8urUHKZ0r",
    "outputId": "a2f9a91a-acf2-442f-a88f-5ebf8b50f810"
   },
   "outputs": [
    {
     "name": "stdout",
     "output_type": "stream",
     "text": [
      "Eleven Madison Park\n",
      "{'Restaurant name': 'Eleven Madison Park'}\n"
     ]
    }
   ],
   "source": [
    "restaurant_name=soup.find_all('h1')\n",
    "for c in restaurant_name:\n",
    "    bus_name = c.get_text()\n",
    "print(bus_name)\n",
    "restaurant_info['Restaurant name'] = bus_name\n",
    "print(restaurant_info)"
   ]
  },
  {
   "cell_type": "markdown",
   "metadata": {
    "id": "M9Bm-E6SL4Dm"
   },
   "source": [
    "4. Getting the phone number"
   ]
  },
  {
   "cell_type": "code",
   "execution_count": 36,
   "metadata": {
    "colab": {
     "base_uri": "https://localhost:8080/"
    },
    "id": "vGuggBRKL90K",
    "outputId": "b4fe9111-ca1c-4ce3-8bed-73019c84256d"
   },
   "outputs": [
    {
     "name": "stdout",
     "output_type": "stream",
     "text": [
      "(212) 889-0905\n",
      "{'Restaurant name': 'Eleven Madison Park', 'Phone number': '(212) 889-0905'}\n"
     ]
    }
   ],
   "source": [
    "all_p_tags=soup.find_all('p', class_='css-1p9ibgf')\n",
    "phone_num = all_p_tags[16].get_text()\n",
    "print(phone_num)\n",
    "\n",
    "restaurant_info['Phone number'] = phone_num\n",
    "print(restaurant_info)"
   ]
  },
  {
   "cell_type": "markdown",
   "metadata": {
    "id": "wTmVe3UhMQs7"
   },
   "source": [
    "5. Getting the address"
   ]
  },
  {
   "cell_type": "code",
   "execution_count": 37,
   "metadata": {
    "colab": {
     "base_uri": "https://localhost:8080/"
    },
    "id": "iCyyjI_eMfty",
    "outputId": "5593de38-7edf-4b46-ccec-192b5581d2fd"
   },
   "outputs": [
    {
     "name": "stdout",
     "output_type": "stream",
     "text": [
      "11 Madison Ave, New York, NY 10010\n",
      "{'Restaurant name': 'Eleven Madison Park', 'Phone number': '(212) 889-0905', 'Address': '11 Madison Ave, New York, NY 10010'}\n"
     ]
    }
   ],
   "source": [
    "get_location = soup.find_all('span',class_='raw__09f24__T4Ezm')\n",
    "\n",
    "bus_address = get_location[0].text+', ' + get_location[1].text #revise here to make it looks like a sentence\n",
    "print(bus_address)\n",
    "restaurant_info['Address'] = bus_address\n",
    "print(restaurant_info)"
   ]
  },
  {
   "cell_type": "markdown",
   "metadata": {
    "id": "shO-3NDIMlxI"
   },
   "source": [
    "6. Getting the operating hours"
   ]
  },
  {
   "cell_type": "code",
   "execution_count": 38,
   "metadata": {
    "colab": {
     "base_uri": "https://localhost:8080/"
    },
    "id": "YZ37BmS2MuUY",
    "outputId": "c3b391bd-b44e-421e-b4f6-35731f1582cc"
   },
   "outputs": [
    {
     "name": "stdout",
     "output_type": "stream",
     "text": [
      "{'Restaurant name': 'Eleven Madison Park', 'Phone number': '(212) 889-0905', 'Address': '11 Madison Ave, New York, NY 10010', 'Operating Hours': {'Mon': '5:30 PM - 10:00 PM', 'Tue': '5:30 PM - 10:00 PM', 'Wed': '5:30 PM - 10:00 PM', 'Thu': '5:30 PM - 10:30 PM', 'Fri': '5:30 PM - 10:30 PM', 'Sat': '5:30 PM - 10:30 PM', 'Sun': 'Closed'}}\n"
     ]
    }
   ],
   "source": [
    "# using select method to find where it located.\n",
    "OH_list = soup.select(\n",
    "        '#location-and-hours > section > div.arrange__09f24__LDfbs.gutter-4__09f24__dajdg.border-color--default__09f24__NPAKY > div.arrange-unit__09f24__rqHTg.arrange-unit-fill__09f24__CUubG.border-color--default__09f24__NPAKY > div > div > table > tbody > tr.css-29kerx')\n",
    "\n",
    "# create a new dictionary for operating hours\n",
    "OH_dict = {}\n",
    "\n",
    "# using for loop to get the hours and weekdays by using enumerate function to get monday-sunday\n",
    "\n",
    "for index, ele in enumerate(OH_list):\n",
    "    if index % 2 == 0: #there is a blank line in the webpage\n",
    "            continue\n",
    "    title = ele.select_one('th > p').get_text()\n",
    "    value = ele.select_one('td > ul > li > p').get_text()\n",
    "    OH_dict[title] = value\n",
    "restaurant_info['Operating Hours'] = OH_dict\n",
    "print(restaurant_info)"
   ]
  },
  {
   "cell_type": "markdown",
   "metadata": {
    "id": "esGFZyMbMym6"
   },
   "source": [
    "7. Getting the restaurant's website "
   ]
  },
  {
   "cell_type": "code",
   "execution_count": 39,
   "metadata": {
    "colab": {
     "base_uri": "https://localhost:8080/"
    },
    "id": "qEP5YmKBM3t3",
    "outputId": "1d98db8c-3288-47a0-a742-5886eb99ceff"
   },
   "outputs": [
    {
     "name": "stdout",
     "output_type": "stream",
     "text": [
      "http://www.elevenmadisonpark.com\n"
     ]
    }
   ],
   "source": [
    "y = soup.find_all('a',class_='css-1um3nx')\n",
    "webpage_link = y[1].text  # I revise here from 2 to 1.\n",
    "webpage_link = webpage_link[:-1] + 'om' #using replace method.\n",
    "print(webpage_link)\n",
    "restaurant_info['Website'] = webpage_link"
   ]
  },
  {
   "cell_type": "markdown",
   "metadata": {
    "id": "k_O4yj4-M7iL"
   },
   "source": [
    "8. Getting the most popular dishes and their pictures"
   ]
  },
  {
   "cell_type": "code",
   "execution_count": 42,
   "metadata": {
    "id": "mKzdB_H9NArV"
   },
   "outputs": [
    {
     "name": "stdout",
     "output_type": "stream",
     "text": [
      "{'Restaurant name': 'Eleven Madison Park', 'Phone number': '(212) 889-0905', 'Address': '11 Madison Ave, New York, NY 10010', 'Operating Hours': {'Mon': '5:30 PM - 10:00 PM', 'Tue': '5:30 PM - 10:00 PM', 'Wed': '5:30 PM - 10:00 PM', 'Thu': '5:30 PM - 10:30 PM', 'Fri': '5:30 PM - 10:30 PM', 'Sat': '5:30 PM - 10:30 PM', 'Sun': 'Closed'}, 'Website': 'http://www.elevenmadisonpark.com/', 'Most Popular Dishes Pictures': {'Foie Gras': 'https://s3-media0.fl.yelpcdn.com/bphoto/uFegKwI_fHYPs7e3quXwHQ/258s.jpg', 'Take Home Granola': 'https://s3-media0.fl.yelpcdn.com/bphoto/b3T3Pu4_SVxqbm4qUy2BmA/258s.jpg', 'Black Truffle': 'https://s3-media0.fl.yelpcdn.com/bphoto/X6aHF0ozGRmJ1KjK4BiErQ/258s.jpg', 'Picnic Basket': 'https://s3-media0.fl.yelpcdn.com/bphoto/8N-qcarXdUBDsolCP6ayxQ/258s.jpg', 'Carrot Tartare': 'https://s3-media0.fl.yelpcdn.com/bphoto/gsPhfeFETNHfeF2g4BeAIw/258s.jpg', 'Smoked Sturgeon': 'https://s3-media0.fl.yelpcdn.com/bphoto/qANd9DsqmLoF6Wie30MZqg/258s.jpg', 'Eggs Benedict': 'https://s3-media0.fl.yelpcdn.com/bphoto/sWD1qPTwpTSK_JWxbWfa6A/258s.jpg', 'Chocolate Covered Pretzel': 'https://s3-media0.fl.yelpcdn.com/bphoto/iEKx9g1prItt9NhTd1x-JA/258s.jpg', 'Suckling Pig Confit': 'https://s3-media0.fl.yelpcdn.com/bphoto/81deV_KdDVcMzMuDaSYjPg/258s.jpg', 'Baked Alaska': 'https://s3-media0.fl.yelpcdn.com/bphoto/Xb4Mjt-_U4cChsV9xXmezg/258s.jpg', 'Butter Poached Lobster': 'https://s3-media0.fl.yelpcdn.com/bphoto/B2TeRSByrp2f57hVp5Y69Q/258s.jpg', 'Choc Covered Pretzels': 'https://s3-media0.fl.yelpcdn.com/bphoto/iEKx9g1prItt9NhTd1x-JA/258s.jpg', 'Parting Gifts': 'https://s3-media0.fl.yelpcdn.com/bphoto/qNS9n-s-z-iu3plqSJ048g/258s.jpg', 'Duck Breast': 'https://s3-media0.fl.yelpcdn.com/bphoto/bq-Btc7m3vVzkN9HO6lfjg/258s.jpg', 'Seared Foie': 'https://s3-media0.fl.yelpcdn.com/bphoto/LsTpHSCwbOKqMzCAoKuDcw/258s.jpg', 'Clam Bake': 'https://s3-media0.fl.yelpcdn.com/bphoto/sjE3ZxCfbNttLMq7PMfmSA/258s.jpg'}}\n"
     ]
    }
   ],
   "source": [
    "pic = soup.find_all('img',class_='dishImageV2__09f24__VT6Je')\n",
    "pictures = {}\n",
    "for i in range(0,len(pic)) :\n",
    "    pictures[pic[i].get('alt')] = pic[i].get('src')\n",
    "restaurant_info['Most Popular Dishes Pictures'] = pictures\n",
    "print(restaurant_info)"
   ]
  },
  {
   "cell_type": "markdown",
   "metadata": {
    "id": "M9yR2UgoNFmd"
   },
   "source": [
    "9. Getting the nearby restaurants"
   ]
  },
  {
   "cell_type": "code",
   "execution_count": 10,
   "metadata": {
    "colab": {
     "base_uri": "https://localhost:8080/"
    },
    "id": "9OTO1wf-NWdq",
    "outputId": "18aa711f-41ba-4b5f-f600-ac4309335ca9"
   },
   "outputs": [
    {
     "name": "stdout",
     "output_type": "stream",
     "text": [
      "['Chapel Bar', 'Thyme Bar', 'Lobby Bar', 'Undercote', 'The Sentry - Flatiron', 'Swingers NoMad', 'Apotheke Nomad', 'Patent Pending', 'Harding’s', 'Ampersand']\n"
     ]
    }
   ],
   "source": [
    "# new website address:\n",
    "bars_near_by = urlopen('https://www.yelp.com/search?cflt=bars&find_near=eleven-madison-park-new-york')\n",
    "bars_soup = BeautifulSoup(bars_near_by, 'html.parser')\n",
    "bars_list=bars_soup.find_all('a', class_=\"css-1m051bw\")\n",
    "bar_name = []\n",
    "for name in bars_list:\n",
    "  bar_name.append(name.get_text())\n",
    "near_bar_name = bar_name[3:]\n",
    "print(near_bar_name)\n",
    "restaurant_info['Nearby Bar'] = near_bar_name"
   ]
  },
  {
   "cell_type": "markdown",
   "metadata": {
    "id": "US-HvsTwNeKp"
   },
   "source": [
    "9. Getting the business summary "
   ]
  },
  {
   "cell_type": "code",
   "execution_count": 46,
   "metadata": {
    "colab": {
     "base_uri": "https://localhost:8080/",
     "height": 236
    },
    "id": "SuKTQvcwNiGE",
    "outputId": "47112f93-2259-4ef0-8fcd-60c67010a923"
   },
   "outputs": [
    {
     "name": "stdout",
     "output_type": "stream",
     "text": [
      "Established in 1998. Eleven Madison Park embodies an urbane sophistication serving Chef Daniel Humm's modern, sophisticated French cuisine that emphasizes purity, simplicity and seasonal flavors and ingredients.  Daniel's delicate and precise cooking style is experienced through a constantly evolving menu. The restaurant's dramatically high ceilings and magnificent art deco dining room offer guests lush views of historic Madison Square Park and the Flatiron building. In addition to the main dining room, guests may also enjoy wine, beer, and cocktails, as well as an extensive bar menu in the restaurant's bar and Flatiron Lounge.\n",
      "In November 2008, Eleven Madison Park was designated Grand Chef Relais & Châteaux, joining the ranks of one of the world's most exclusive associations of hotels and gourmet restaurants. In 2009, Eleven Madison Park received a Four Star Review from The New York Times. The restaurant was also awarded one Michelin star.…\n"
     ]
    }
   ],
   "source": [
    "rest_about = soup.find_all('section',class_='margin-t4__09f24__G0VVf padding-t4__09f24__Y6aGL border--top__09f24__exYYb border-color--default__09f24__NPAKY')\n",
    "#find_all('div',class_=' border-color--default__09f24__NPAKY')\n",
    "\n",
    "about_the_business = rest_about[3].find('span').text\n",
    "print(about_the_business)\n",
    "restaurant_info['About restaurant'] = about_the_business[:-1] # there is a '...' at the end\n"
   ]
  },
  {
   "cell_type": "markdown",
   "metadata": {
    "id": "1eNuxRT3NoiF"
   },
   "source": [
    "10. Getting the number of reviews"
   ]
  },
  {
   "cell_type": "code",
   "execution_count": 48,
   "metadata": {
    "id": "NZp6acD1NtbX"
   },
   "outputs": [
    {
     "name": "stdout",
     "output_type": "stream",
     "text": [
      "{'Restaurant name': 'Eleven Madison Park', 'Phone number': '(212) 889-0905', 'Address': '11 Madison Ave, New York, NY 10010', 'Operating Hours': {'Mon': '5:30 PM - 10:00 PM', 'Tue': '5:30 PM - 10:00 PM', 'Wed': '5:30 PM - 10:00 PM', 'Thu': '5:30 PM - 10:30 PM', 'Fri': '5:30 PM - 10:30 PM', 'Sat': '5:30 PM - 10:30 PM', 'Sun': 'Closed'}, 'Website': 'http://www.elevenmadisonpark.com/', 'Most Popular Dishes Pictures': {'Foie Gras': 'https://s3-media0.fl.yelpcdn.com/bphoto/uFegKwI_fHYPs7e3quXwHQ/258s.jpg', 'Take Home Granola': 'https://s3-media0.fl.yelpcdn.com/bphoto/b3T3Pu4_SVxqbm4qUy2BmA/258s.jpg', 'Black Truffle': 'https://s3-media0.fl.yelpcdn.com/bphoto/X6aHF0ozGRmJ1KjK4BiErQ/258s.jpg', 'Picnic Basket': 'https://s3-media0.fl.yelpcdn.com/bphoto/8N-qcarXdUBDsolCP6ayxQ/258s.jpg', 'Carrot Tartare': 'https://s3-media0.fl.yelpcdn.com/bphoto/gsPhfeFETNHfeF2g4BeAIw/258s.jpg', 'Smoked Sturgeon': 'https://s3-media0.fl.yelpcdn.com/bphoto/qANd9DsqmLoF6Wie30MZqg/258s.jpg', 'Eggs Benedict': 'https://s3-media0.fl.yelpcdn.com/bphoto/sWD1qPTwpTSK_JWxbWfa6A/258s.jpg', 'Chocolate Covered Pretzel': 'https://s3-media0.fl.yelpcdn.com/bphoto/iEKx9g1prItt9NhTd1x-JA/258s.jpg', 'Suckling Pig Confit': 'https://s3-media0.fl.yelpcdn.com/bphoto/81deV_KdDVcMzMuDaSYjPg/258s.jpg', 'Baked Alaska': 'https://s3-media0.fl.yelpcdn.com/bphoto/Xb4Mjt-_U4cChsV9xXmezg/258s.jpg', 'Butter Poached Lobster': 'https://s3-media0.fl.yelpcdn.com/bphoto/B2TeRSByrp2f57hVp5Y69Q/258s.jpg', 'Choc Covered Pretzels': 'https://s3-media0.fl.yelpcdn.com/bphoto/iEKx9g1prItt9NhTd1x-JA/258s.jpg', 'Parting Gifts': 'https://s3-media0.fl.yelpcdn.com/bphoto/qNS9n-s-z-iu3plqSJ048g/258s.jpg', 'Duck Breast': 'https://s3-media0.fl.yelpcdn.com/bphoto/bq-Btc7m3vVzkN9HO6lfjg/258s.jpg', 'Seared Foie': 'https://s3-media0.fl.yelpcdn.com/bphoto/LsTpHSCwbOKqMzCAoKuDcw/258s.jpg', 'Clam Bake': 'https://s3-media0.fl.yelpcdn.com/bphoto/sjE3ZxCfbNttLMq7PMfmSA/258s.jpg'}, 'About restaurant': \"Established in 1998. Eleven Madison Park embodies an urbane sophistication serving Chef Daniel Humm's modern, sophisticated French cuisine that emphasizes purity, simplicity and seasonal flavors and ingredients.  Daniel's delicate and precise cooking style is experienced through a constantly evolving menu. The restaurant's dramatically high ceilings and magnificent art deco dining room offer guests lush views of historic Madison Square Park and the Flatiron building. In addition to the main dining room, guests may also enjoy wine, beer, and cocktails, as well as an extensive bar menu in the restaurant's bar and Flatiron Lounge.\\nIn November 2008, Eleven Madison Park was designated Grand Chef Relais & Châteaux, joining the ranks of one of the world's most exclusive associations of hotels and gourmet restaurants. In 2009, Eleven Madison Park received a Four Star Review from The New York Times. The restaurant was also awarded one Michelin star.\", 'Number of Reviews': 2357}\n"
     ]
    }
   ],
   "source": [
    "rev = soup.find_all('a',class_='css-1m051bw')\n",
    "\n",
    "reviews = rev[0].text\n",
    "reviews = reviews.split()\n",
    "reviews = int(reviews[0])\n",
    "restaurant_info['Number of Reviews'] = reviews\n",
    "print(restaurant_info)"
   ]
  },
  {
   "cell_type": "markdown",
   "metadata": {
    "id": "W3aUrC9sNxZQ"
   },
   "source": [
    "11. Getting the top 10 reviews"
   ]
  },
  {
   "cell_type": "code",
   "execution_count": 51,
   "metadata": {
    "id": "lvzzx9fyN3zP"
   },
   "outputs": [
    {
     "name": "stdout",
     "output_type": "stream",
     "text": [
      "[\"I was most excited for this experience during my visit to NYC and I was not disappointed. \\xa0Completely plant-based menu in very creative ways.We started out with a few cocktails from their seasonal menu. \\xa0I had the pear, and pumpkin seed cocktail. \\xa0Very unique and I appreciate them using seasonal ingredients.The hot pot broth was so flavor possibly one of my favorites. \\xa0Other dishes were Rice porridge, Tonburi with chia seed and potato, and Bok Choy with white truffle. \\xa0The mushroom 'steak' was charred and was very well seasoned. \\xa0We were also served pumpkin seed bread. \\xa0It was so flaky and warm. \\xa0We were also able to get a second serving.For dessert, we had apple and apple cider donuts and chocolate pretzels. \\xa0Nothing too impressive but I was also very full at that point.The dinner took about 3 hours and included a kitchen tour! \\xa0Service was outstanding and very well trained on the food. \\xa0All in all, the dinner cost a pretty penny but was a once in a lifetime experience!\", \"If you're looking for a quintessential New York dining experience, Eleven Madison Park is a must-go. The restaurant is located in the heart of the city, in one of its most iconic buildings, and offers stunning views of the surrounding skyline.The food is exquisite - and expensive - but it's well worth it for a special occasion. The menu changes regularly but always features inventive and beautifully presented dishes. The service is impeccable, and the atmosphere is intimate and elegant.However, I wasn't entirely blown away by Eleven Madison Park. The food was good but not great, and the price tag was a bit too high for my taste. Overall, it's a lovely restaurant but there are definitely better options out there.\", 'This review is pre-menu change, but I don\\'t imagine things have really changed all that much with their style of service. Here goes nothing (pre-pandemic style):Surprisingly not great. From the entry through a nondescript revolving door, directly to a hostess in view of the dining room, we didn\\'t really get a feel for the uniqueness of Eleven Madison Park. However, I don\\'t think time was the problem since the dinner lasted 5+ hours. On all standard fronts, environment, culinary, service - there were major issues.On service - I was served still water after asking for sparkling, the servers hastily refilled cups throughout the night, spilling every time. Bread was served to fill the gaps of our experience and nothing was cleaned up after each course. The bread course was especially bad with crumbs littered about well into 2-3 courses beyond. They forgot my order and I had to speak up to correct them.I\\'m fine with having a mostly impersonal relationship with servers, but there ended up being only a handful of interactions with us over the course of five hours, two of which were to ask what food we\\'d like out of a list of 3 options. The only time we were asked if we needed anything or were doing alright was after the bread course - which I\\'d asked for a cocktail after and also an additional bun. Neither came for about an hour so I had to ask again. If service was good I could forgive the lack of personality. Nothing was prompt, or choreographed.I really didn\\'t like being asked to curate a meal (only 2 courses, the amuse bouche \"platter\" and a dessert dish were anything of a surprise) and why should someone paying this much not try everything recommended by the chef. If you\\'re giving this much control to the customer you may as well be a Hillstone restaurant - most of which have more mindful service than here.All in all, a long 5 hour dinner with a low amount of courses, limited ingenuity or intrigue in each dish, poor service, poor environment, poor choreography - and I\\'m not the only one in my party to believe these things. All 5 of us had gripes, and really that shouldn\\'t happen at \"the best restaurant in the world\".Also, wtf was with the bottle of apple schnapps we were left alone with for the remainder of our experience? Awful closer. The gift granola came in lovely little glass jars, so 1 star for that.', \"I was so excited when I snagged a reservation here this weekend! \\xa0I was a little nervous it would be a waste of money based on some of the reviews but I can confidently say it was one of my favorite experiences ever. \\xa0The food was amazing for the most part and the team that works there went above and beyond; I even got to tour the kitchen!! \\xa0Here's a rundown on the meal, which took about 3 hours and filled me up. \\xa0I also had the wine pairing which I highly recommend, the pours are heavy. Hot Pot: 5/5 the skewers were really fun and the cup of broth that came with it was so unique and tastyRice porridge: 4/5 the rice and broth had a great mushroom flavor although I didn't love the mushrooms on topTonburi: 5/5 I'd never had this before and it has a chia mouth feel. The potato and smoked almond broth made the dishTofu: 3/5 the texture was a little funky for me although the taste was great Kabocha Squash: 5/5 this didn't even taste like squash and it was nice and crispy on the outside Bok choy: 4/5 I think I started to get really full about this point. The truffle was a great addition. Maitake mushroom: 2/5 this was only only course I didn't like. They offered to get me something different but I was getting so full that I declined Grape: 5/5 a palate cleanser with multiple textures that went really well together Apple: 4/5 I was so full by this point. This course included a couple items and all were great although I couldn't finish the donut Pretzel: 5/5 this came with a whole bottle of vermouth which was a fun surprise. I was only able to have half a glass and half the pretzel though, I felt like I was going to explode. There was also a bread course somewhere in there and while I was touring the kitchen I got a wonderful glass of mushroom tea; not sure if everyone gets that or not. All in all, I think this meal was worth the money ($700 for 1 person after wine and top) for a once in a lifetime experience!\", \"Came to NY to try Michelin restaurants and this came as very interesting given it is plant based. Restaurant is easy to find... at 11 Madison with entrance right in front of the building. Friendly staff, service is superb For the food, we were told that we got the last menu for the summer as they are switching to fall menu. I initially was not a big fan of an all veggie course and thought i'd leave still feeling hungry but was pleasantly surprised that this was not the case. My husband and i find the food well thought of, flavorful, and satisfying.Our favorite was the dumpling. We also liked the tofu tomato dish, fried okra and corn. The take home granola is also so good! Was not the biggest fan of the drinks shiso and the house made vermouth but it was something unique and adds to the experience.\", \"Their plant based menu is AMAZING! Wow. I am generally not a fan of fine dining because I don't like cream, fish eggs, or exotic meats. I LOVED every single dish. If I lived in NYC, this would be an every weekend type of dining experience for me. The service is also too notch, seriously. Water glasses always full and someone always walking by to silently check on the table. Very comfortable feel and the staff is well trained on the food. I had a question on how something was prepared and got an answer without hesitation. Bravo!! I will be back!\", 'This restaurant does not deserve its Michelin star(s) or reputation. My wife and I spent a total of nearly $1000 for dinner for two and drinks. If that seems like a lot, read on to understand my 2 star rating. The decor is bland. You enter and the space is well lit. The ceiling is high. The space is otherwise nothing special. No great art. No beautiful flowers. The serving ware is fine, but nothing to remark on. It\\'s just not star-worthy. The service is bizarre and distracting. For some reason, the proprietor has determined that having staff in constant motion is, what? \\xa0Entertaining? \\xa0It is not. The many servers rotate around a figure eight track. If the soup course is interrupted on its way to table, that server makes another rotation. It is akin to watching roller derby or like the Broadway show Starlight Express. And it also meant it was very hard to connect with any one server as they did not have time to stop and chat. The odd service was not universal. We noticed there were two tables where the servers stopped routinely and for long stretches. Customers at one of the tables appeared to be athletes, while at the other they appeared to be Wall Street types. \\xa0Maybe they were just better and longer term customers than we. But for the same cost we would have hoped for equal service. Both of the special tables received parting gifts and one was invited into the kitchen. The food .... Yes we knew it had gone vegan. Plants are multi-colored and can be very flavorful. If this meal was a book it would have been called \"Fifty Shades of Beige,\" or \"How Many Ways Can You Cook Squash?\" \\xa0The exception was the final course that included skewered, smoked slices of mushroom. It was delicious. The sommelier was lovely. He was one of the few people to take the time to speak with us. The water server was also personable. At the end, a new person approached. Captain? \\xa0Don\\'t know. She asked how everything was. We said it was \"ok.\" \\xa0We were happy to leave it at that and chalk the experience up to our own eagerness to try something that did not turn out to suit. But she pressed and so we shared thoughts about the blah surroundings, the VIP tables, the lack of personal touch, and the relatively disappointing food variety. We also complimented the two servers mentioned above who were great. This individual then invited us to view the kitchen. There we were given the parting chocolate bar that had been presented to the VIPs next to us. I appreciated this gesture, although if was clearly an attempt to mollify as opposed to it having been part of what might have been perceived as a gracious evening. This restaurant is not: (a) worth the price; or (b) really good at all. There are so many fabulous places in Manhattan; including many with a Michelin star. Try those.', 'Is EMP good? Yes. Is it worth its $400 price tag? Hmmm, not quite.Given a few of my teammates are vegetarian, we opted to go to EMP and try this 1-Michelin star plant-based restaurant. The theme of the menu this time is \"Spring\", a welcome departure from one of its previous themes, \"Onions\". My colleague who tried both said she much preferred this one!We start off with a white asparagus dish. Dandelion is served with fried asparagus and wrapped in a shiso leaf, with a Japanese tempura take. Asparagus dumplings accompanied - this was good and cozy, albeit a bit too salty.Next came a radish tostada dish with horseradish crema. It was a touch spicy but really flavourful and delicious! It came with some lettuce served with cypress tree seeds to mimic caviar. The vegan caviar stole the show! It was so unique and yummy.We then had vegan butter made of morel mushroom with garlic oil glaze, meant to accompany a laminated bread. I have no idea how they do it, but the bread was so soft and croissant like! I will never look down on vegan butter and bread again. My party enjoyed this so much that we asked for more (you can do that!).A spring pea salad with fava beans was served - this was just okay. A bit salty but nicely tangy. It came just before another pea dish, made of English and sweet peas, served warm with some rice from New Jersey amidst a flower broth. It had an interesting curry flavour to it, with some brightness added from the dill. The wild rice was at both times chewy and crispy. A large pot was brought to the table, and the servers showed us some fresh tofu made from soy milk (made 5 minutes before it was served). It was garnished with shaved artichoke, arugula bloom (the flowering part with peppery notes) and some spicyness from roasted artichoke with Calabrian chili. This was okay but nothing too memorable.Braised seitan with morel mushrooms and roasted spinach was served next with a salty, cornstarch-based glaze. I was instantly reminded of the cornstarch glaze used in Chinese vegetable dishes, but found it to be a touch on the salty side.White asparagus made a return in the last savoury dish. A large clay box came to the table, with smoke and steam wafting after opening. A smoked asparagus served with asparagus crema and topped with ginger powder was served. I didn\\'t particularly enjoy this dish; it reminded me of Mexican tamales but I found it quite dry.A variety of desserts came next. Chamomile ice cream arrived first, in a rectangular block. Then came a strawberry in a syrup - my colleague was shocked at this and had to be reassured that it was merely a palette cleanser - followed by a more substantial pastry consisting of strawberry-cherry blossom mousse and rose ice cream. Finally, we ended the meal with a dark chocolate salted peanut butter pretzel served with sweet vermouth. Overall, was a theatrical meal but some dishes were misses. My favourites were the fake caviar, dumplings, and tostada.', \"This place is an experience. Go in with an open mind and prepare for your taste buds to explode. Every course is unique, well thought theme that moves you to the next course. I'd highly recommend pairing it with the wine option but if you're not a wine person you can buy a la cart cocktails. The Rice and the Peach are my personal favorites. If I could give this place six stars out of five I would. It's great from start to finish and it's not surprising why this restaurant has multiple Michelin stars.\", 'Everything was amazing, greetings, presentation of food, taste, tour of the kitchen,Two Of those special cocktails and also the wine pairing details and explaination.Not to forget that gift with granolaNo wonder why they got 3 michelin star restaurant.']\n"
     ]
    }
   ],
   "source": [
    "comm = soup.find_all('p',class_='comment__09f24__gu0rG css-qgunke')\n",
    "comments = []\n",
    "for i in range(0,len(comm)):\n",
    "    comments.append(comm[i].text)\n",
    "    \n",
    "print(comments)   \n",
    "restaurant_info['Top 10 reviews'] = comments"
   ]
  },
  {
   "cell_type": "markdown",
   "metadata": {
    "id": "1CVSLPMZN7cL"
   },
   "source": [
    "12. Printing the information"
   ]
  },
  {
   "cell_type": "code",
   "execution_count": 52,
   "metadata": {
    "id": "wOMe_uSLOEiR"
   },
   "outputs": [
    {
     "name": "stdout",
     "output_type": "stream",
     "text": [
      "{'Restaurant name': 'Eleven Madison Park', 'Phone number': '(212) 889-0905', 'Address': '11 Madison Ave, New York, NY 10010', 'Operating Hours': {'Mon': '5:30 PM - 10:00 PM', 'Tue': '5:30 PM - 10:00 PM', 'Wed': '5:30 PM - 10:00 PM', 'Thu': '5:30 PM - 10:30 PM', 'Fri': '5:30 PM - 10:30 PM', 'Sat': '5:30 PM - 10:30 PM', 'Sun': 'Closed'}, 'Website': 'http://www.elevenmadisonpark.com/', 'Most Popular Dishes Pictures': {'Foie Gras': 'https://s3-media0.fl.yelpcdn.com/bphoto/uFegKwI_fHYPs7e3quXwHQ/258s.jpg', 'Take Home Granola': 'https://s3-media0.fl.yelpcdn.com/bphoto/b3T3Pu4_SVxqbm4qUy2BmA/258s.jpg', 'Black Truffle': 'https://s3-media0.fl.yelpcdn.com/bphoto/X6aHF0ozGRmJ1KjK4BiErQ/258s.jpg', 'Picnic Basket': 'https://s3-media0.fl.yelpcdn.com/bphoto/8N-qcarXdUBDsolCP6ayxQ/258s.jpg', 'Carrot Tartare': 'https://s3-media0.fl.yelpcdn.com/bphoto/gsPhfeFETNHfeF2g4BeAIw/258s.jpg', 'Smoked Sturgeon': 'https://s3-media0.fl.yelpcdn.com/bphoto/qANd9DsqmLoF6Wie30MZqg/258s.jpg', 'Eggs Benedict': 'https://s3-media0.fl.yelpcdn.com/bphoto/sWD1qPTwpTSK_JWxbWfa6A/258s.jpg', 'Chocolate Covered Pretzel': 'https://s3-media0.fl.yelpcdn.com/bphoto/iEKx9g1prItt9NhTd1x-JA/258s.jpg', 'Suckling Pig Confit': 'https://s3-media0.fl.yelpcdn.com/bphoto/81deV_KdDVcMzMuDaSYjPg/258s.jpg', 'Baked Alaska': 'https://s3-media0.fl.yelpcdn.com/bphoto/Xb4Mjt-_U4cChsV9xXmezg/258s.jpg', 'Butter Poached Lobster': 'https://s3-media0.fl.yelpcdn.com/bphoto/B2TeRSByrp2f57hVp5Y69Q/258s.jpg', 'Choc Covered Pretzels': 'https://s3-media0.fl.yelpcdn.com/bphoto/iEKx9g1prItt9NhTd1x-JA/258s.jpg', 'Parting Gifts': 'https://s3-media0.fl.yelpcdn.com/bphoto/qNS9n-s-z-iu3plqSJ048g/258s.jpg', 'Duck Breast': 'https://s3-media0.fl.yelpcdn.com/bphoto/bq-Btc7m3vVzkN9HO6lfjg/258s.jpg', 'Seared Foie': 'https://s3-media0.fl.yelpcdn.com/bphoto/LsTpHSCwbOKqMzCAoKuDcw/258s.jpg', 'Clam Bake': 'https://s3-media0.fl.yelpcdn.com/bphoto/sjE3ZxCfbNttLMq7PMfmSA/258s.jpg'}, 'About restaurant': \"Established in 1998. Eleven Madison Park embodies an urbane sophistication serving Chef Daniel Humm's modern, sophisticated French cuisine that emphasizes purity, simplicity and seasonal flavors and ingredients.  Daniel's delicate and precise cooking style is experienced through a constantly evolving menu. The restaurant's dramatically high ceilings and magnificent art deco dining room offer guests lush views of historic Madison Square Park and the Flatiron building. In addition to the main dining room, guests may also enjoy wine, beer, and cocktails, as well as an extensive bar menu in the restaurant's bar and Flatiron Lounge.\\nIn November 2008, Eleven Madison Park was designated Grand Chef Relais & Châteaux, joining the ranks of one of the world's most exclusive associations of hotels and gourmet restaurants. In 2009, Eleven Madison Park received a Four Star Review from The New York Times. The restaurant was also awarded one Michelin star.\", 'Number of Reviews': 2357, 'Top 10 reviews': [\"I was most excited for this experience during my visit to NYC and I was not disappointed. \\xa0Completely plant-based menu in very creative ways.We started out with a few cocktails from their seasonal menu. \\xa0I had the pear, and pumpkin seed cocktail. \\xa0Very unique and I appreciate them using seasonal ingredients.The hot pot broth was so flavor possibly one of my favorites. \\xa0Other dishes were Rice porridge, Tonburi with chia seed and potato, and Bok Choy with white truffle. \\xa0The mushroom 'steak' was charred and was very well seasoned. \\xa0We were also served pumpkin seed bread. \\xa0It was so flaky and warm. \\xa0We were also able to get a second serving.For dessert, we had apple and apple cider donuts and chocolate pretzels. \\xa0Nothing too impressive but I was also very full at that point.The dinner took about 3 hours and included a kitchen tour! \\xa0Service was outstanding and very well trained on the food. \\xa0All in all, the dinner cost a pretty penny but was a once in a lifetime experience!\", \"If you're looking for a quintessential New York dining experience, Eleven Madison Park is a must-go. The restaurant is located in the heart of the city, in one of its most iconic buildings, and offers stunning views of the surrounding skyline.The food is exquisite - and expensive - but it's well worth it for a special occasion. The menu changes regularly but always features inventive and beautifully presented dishes. The service is impeccable, and the atmosphere is intimate and elegant.However, I wasn't entirely blown away by Eleven Madison Park. The food was good but not great, and the price tag was a bit too high for my taste. Overall, it's a lovely restaurant but there are definitely better options out there.\", 'This review is pre-menu change, but I don\\'t imagine things have really changed all that much with their style of service. Here goes nothing (pre-pandemic style):Surprisingly not great. From the entry through a nondescript revolving door, directly to a hostess in view of the dining room, we didn\\'t really get a feel for the uniqueness of Eleven Madison Park. However, I don\\'t think time was the problem since the dinner lasted 5+ hours. On all standard fronts, environment, culinary, service - there were major issues.On service - I was served still water after asking for sparkling, the servers hastily refilled cups throughout the night, spilling every time. Bread was served to fill the gaps of our experience and nothing was cleaned up after each course. The bread course was especially bad with crumbs littered about well into 2-3 courses beyond. They forgot my order and I had to speak up to correct them.I\\'m fine with having a mostly impersonal relationship with servers, but there ended up being only a handful of interactions with us over the course of five hours, two of which were to ask what food we\\'d like out of a list of 3 options. The only time we were asked if we needed anything or were doing alright was after the bread course - which I\\'d asked for a cocktail after and also an additional bun. Neither came for about an hour so I had to ask again. If service was good I could forgive the lack of personality. Nothing was prompt, or choreographed.I really didn\\'t like being asked to curate a meal (only 2 courses, the amuse bouche \"platter\" and a dessert dish were anything of a surprise) and why should someone paying this much not try everything recommended by the chef. If you\\'re giving this much control to the customer you may as well be a Hillstone restaurant - most of which have more mindful service than here.All in all, a long 5 hour dinner with a low amount of courses, limited ingenuity or intrigue in each dish, poor service, poor environment, poor choreography - and I\\'m not the only one in my party to believe these things. All 5 of us had gripes, and really that shouldn\\'t happen at \"the best restaurant in the world\".Also, wtf was with the bottle of apple schnapps we were left alone with for the remainder of our experience? Awful closer. The gift granola came in lovely little glass jars, so 1 star for that.', \"I was so excited when I snagged a reservation here this weekend! \\xa0I was a little nervous it would be a waste of money based on some of the reviews but I can confidently say it was one of my favorite experiences ever. \\xa0The food was amazing for the most part and the team that works there went above and beyond; I even got to tour the kitchen!! \\xa0Here's a rundown on the meal, which took about 3 hours and filled me up. \\xa0I also had the wine pairing which I highly recommend, the pours are heavy. Hot Pot: 5/5 the skewers were really fun and the cup of broth that came with it was so unique and tastyRice porridge: 4/5 the rice and broth had a great mushroom flavor although I didn't love the mushrooms on topTonburi: 5/5 I'd never had this before and it has a chia mouth feel. The potato and smoked almond broth made the dishTofu: 3/5 the texture was a little funky for me although the taste was great Kabocha Squash: 5/5 this didn't even taste like squash and it was nice and crispy on the outside Bok choy: 4/5 I think I started to get really full about this point. The truffle was a great addition. Maitake mushroom: 2/5 this was only only course I didn't like. They offered to get me something different but I was getting so full that I declined Grape: 5/5 a palate cleanser with multiple textures that went really well together Apple: 4/5 I was so full by this point. This course included a couple items and all were great although I couldn't finish the donut Pretzel: 5/5 this came with a whole bottle of vermouth which was a fun surprise. I was only able to have half a glass and half the pretzel though, I felt like I was going to explode. There was also a bread course somewhere in there and while I was touring the kitchen I got a wonderful glass of mushroom tea; not sure if everyone gets that or not. All in all, I think this meal was worth the money ($700 for 1 person after wine and top) for a once in a lifetime experience!\", \"Came to NY to try Michelin restaurants and this came as very interesting given it is plant based. Restaurant is easy to find... at 11 Madison with entrance right in front of the building. Friendly staff, service is superb For the food, we were told that we got the last menu for the summer as they are switching to fall menu. I initially was not a big fan of an all veggie course and thought i'd leave still feeling hungry but was pleasantly surprised that this was not the case. My husband and i find the food well thought of, flavorful, and satisfying.Our favorite was the dumpling. We also liked the tofu tomato dish, fried okra and corn. The take home granola is also so good! Was not the biggest fan of the drinks shiso and the house made vermouth but it was something unique and adds to the experience.\", \"Their plant based menu is AMAZING! Wow. I am generally not a fan of fine dining because I don't like cream, fish eggs, or exotic meats. I LOVED every single dish. If I lived in NYC, this would be an every weekend type of dining experience for me. The service is also too notch, seriously. Water glasses always full and someone always walking by to silently check on the table. Very comfortable feel and the staff is well trained on the food. I had a question on how something was prepared and got an answer without hesitation. Bravo!! I will be back!\", 'This restaurant does not deserve its Michelin star(s) or reputation. My wife and I spent a total of nearly $1000 for dinner for two and drinks. If that seems like a lot, read on to understand my 2 star rating. The decor is bland. You enter and the space is well lit. The ceiling is high. The space is otherwise nothing special. No great art. No beautiful flowers. The serving ware is fine, but nothing to remark on. It\\'s just not star-worthy. The service is bizarre and distracting. For some reason, the proprietor has determined that having staff in constant motion is, what? \\xa0Entertaining? \\xa0It is not. The many servers rotate around a figure eight track. If the soup course is interrupted on its way to table, that server makes another rotation. It is akin to watching roller derby or like the Broadway show Starlight Express. And it also meant it was very hard to connect with any one server as they did not have time to stop and chat. The odd service was not universal. We noticed there were two tables where the servers stopped routinely and for long stretches. Customers at one of the tables appeared to be athletes, while at the other they appeared to be Wall Street types. \\xa0Maybe they were just better and longer term customers than we. But for the same cost we would have hoped for equal service. Both of the special tables received parting gifts and one was invited into the kitchen. The food .... Yes we knew it had gone vegan. Plants are multi-colored and can be very flavorful. If this meal was a book it would have been called \"Fifty Shades of Beige,\" or \"How Many Ways Can You Cook Squash?\" \\xa0The exception was the final course that included skewered, smoked slices of mushroom. It was delicious. The sommelier was lovely. He was one of the few people to take the time to speak with us. The water server was also personable. At the end, a new person approached. Captain? \\xa0Don\\'t know. She asked how everything was. We said it was \"ok.\" \\xa0We were happy to leave it at that and chalk the experience up to our own eagerness to try something that did not turn out to suit. But she pressed and so we shared thoughts about the blah surroundings, the VIP tables, the lack of personal touch, and the relatively disappointing food variety. We also complimented the two servers mentioned above who were great. This individual then invited us to view the kitchen. There we were given the parting chocolate bar that had been presented to the VIPs next to us. I appreciated this gesture, although if was clearly an attempt to mollify as opposed to it having been part of what might have been perceived as a gracious evening. This restaurant is not: (a) worth the price; or (b) really good at all. There are so many fabulous places in Manhattan; including many with a Michelin star. Try those.', 'Is EMP good? Yes. Is it worth its $400 price tag? Hmmm, not quite.Given a few of my teammates are vegetarian, we opted to go to EMP and try this 1-Michelin star plant-based restaurant. The theme of the menu this time is \"Spring\", a welcome departure from one of its previous themes, \"Onions\". My colleague who tried both said she much preferred this one!We start off with a white asparagus dish. Dandelion is served with fried asparagus and wrapped in a shiso leaf, with a Japanese tempura take. Asparagus dumplings accompanied - this was good and cozy, albeit a bit too salty.Next came a radish tostada dish with horseradish crema. It was a touch spicy but really flavourful and delicious! It came with some lettuce served with cypress tree seeds to mimic caviar. The vegan caviar stole the show! It was so unique and yummy.We then had vegan butter made of morel mushroom with garlic oil glaze, meant to accompany a laminated bread. I have no idea how they do it, but the bread was so soft and croissant like! I will never look down on vegan butter and bread again. My party enjoyed this so much that we asked for more (you can do that!).A spring pea salad with fava beans was served - this was just okay. A bit salty but nicely tangy. It came just before another pea dish, made of English and sweet peas, served warm with some rice from New Jersey amidst a flower broth. It had an interesting curry flavour to it, with some brightness added from the dill. The wild rice was at both times chewy and crispy. A large pot was brought to the table, and the servers showed us some fresh tofu made from soy milk (made 5 minutes before it was served). It was garnished with shaved artichoke, arugula bloom (the flowering part with peppery notes) and some spicyness from roasted artichoke with Calabrian chili. This was okay but nothing too memorable.Braised seitan with morel mushrooms and roasted spinach was served next with a salty, cornstarch-based glaze. I was instantly reminded of the cornstarch glaze used in Chinese vegetable dishes, but found it to be a touch on the salty side.White asparagus made a return in the last savoury dish. A large clay box came to the table, with smoke and steam wafting after opening. A smoked asparagus served with asparagus crema and topped with ginger powder was served. I didn\\'t particularly enjoy this dish; it reminded me of Mexican tamales but I found it quite dry.A variety of desserts came next. Chamomile ice cream arrived first, in a rectangular block. Then came a strawberry in a syrup - my colleague was shocked at this and had to be reassured that it was merely a palette cleanser - followed by a more substantial pastry consisting of strawberry-cherry blossom mousse and rose ice cream. Finally, we ended the meal with a dark chocolate salted peanut butter pretzel served with sweet vermouth. Overall, was a theatrical meal but some dishes were misses. My favourites were the fake caviar, dumplings, and tostada.', \"This place is an experience. Go in with an open mind and prepare for your taste buds to explode. Every course is unique, well thought theme that moves you to the next course. I'd highly recommend pairing it with the wine option but if you're not a wine person you can buy a la cart cocktails. The Rice and the Peach are my personal favorites. If I could give this place six stars out of five I would. It's great from start to finish and it's not surprising why this restaurant has multiple Michelin stars.\", 'Everything was amazing, greetings, presentation of food, taste, tour of the kitchen,Two Of those special cocktails and also the wine pairing details and explaination.Not to forget that gift with granolaNo wonder why they got 3 michelin star restaurant.']}\n"
     ]
    }
   ],
   "source": [
    "print(restaurant_info)"
   ]
  },
  {
   "cell_type": "markdown",
   "metadata": {
    "id": "bJyDnxXGOHoJ"
   },
   "source": [
    "13. Converting the dictionnary into a JSON file"
   ]
  },
  {
   "cell_type": "code",
   "execution_count": 53,
   "metadata": {
    "id": "R2di8IZXOMST"
   },
   "outputs": [],
   "source": [
    "import json\n",
    "with open(\"RestaurantReview.json\",'w') as writeJSON:\n",
    "    json.dump(restaurant_info,writeJSON)"
   ]
  },
  {
   "cell_type": "code",
   "execution_count": null,
   "metadata": {},
   "outputs": [],
   "source": []
  }
 ],
 "metadata": {
  "colab": {
   "provenance": []
  },
  "kernelspec": {
   "display_name": "Python 3 (ipykernel)",
   "language": "python",
   "name": "python3"
  },
  "language_info": {
   "codemirror_mode": {
    "name": "ipython",
    "version": 3
   },
   "file_extension": ".py",
   "mimetype": "text/x-python",
   "name": "python",
   "nbconvert_exporter": "python",
   "pygments_lexer": "ipython3",
   "version": "3.9.7"
  }
 },
 "nbformat": 4,
 "nbformat_minor": 1
}
